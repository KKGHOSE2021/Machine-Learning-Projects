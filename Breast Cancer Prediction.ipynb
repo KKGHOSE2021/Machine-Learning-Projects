{
 "cells": [
  {
   "cell_type": "code",
   "execution_count": 1,
   "id": "441ff848",
   "metadata": {},
   "outputs": [],
   "source": [
    "# importing all required modules:\n",
    "import pandas as pd\n",
    "import numpy as np\n",
    "import matplotlib.pyplot as plt\n",
    "import seaborn as sbn\n",
    "%matplotlib inline"
   ]
  },
  {
   "cell_type": "code",
   "execution_count": 2,
   "id": "673c9a0c",
   "metadata": {},
   "outputs": [
    {
     "data": {
      "text/html": [
       "<div>\n",
       "<style scoped>\n",
       "    .dataframe tbody tr th:only-of-type {\n",
       "        vertical-align: middle;\n",
       "    }\n",
       "\n",
       "    .dataframe tbody tr th {\n",
       "        vertical-align: top;\n",
       "    }\n",
       "\n",
       "    .dataframe thead th {\n",
       "        text-align: right;\n",
       "    }\n",
       "</style>\n",
       "<table border=\"1\" class=\"dataframe\">\n",
       "  <thead>\n",
       "    <tr style=\"text-align: right;\">\n",
       "      <th></th>\n",
       "      <th>id</th>\n",
       "      <th>diagnosis</th>\n",
       "      <th>radius_mean</th>\n",
       "      <th>texture_mean</th>\n",
       "      <th>perimeter_mean</th>\n",
       "      <th>area_mean</th>\n",
       "      <th>smoothness_mean</th>\n",
       "      <th>compactness_mean</th>\n",
       "      <th>concavity_mean</th>\n",
       "      <th>concave points_mean</th>\n",
       "      <th>...</th>\n",
       "      <th>radius_worst</th>\n",
       "      <th>texture_worst</th>\n",
       "      <th>perimeter_worst</th>\n",
       "      <th>area_worst</th>\n",
       "      <th>smoothness_worst</th>\n",
       "      <th>compactness_worst</th>\n",
       "      <th>concavity_worst</th>\n",
       "      <th>concave points_worst</th>\n",
       "      <th>symmetry_worst</th>\n",
       "      <th>fractal_dimension_worst</th>\n",
       "    </tr>\n",
       "  </thead>\n",
       "  <tbody>\n",
       "    <tr>\n",
       "      <th>0</th>\n",
       "      <td>842302</td>\n",
       "      <td>M</td>\n",
       "      <td>17.99</td>\n",
       "      <td>10.38</td>\n",
       "      <td>122.80</td>\n",
       "      <td>1001.0</td>\n",
       "      <td>0.11840</td>\n",
       "      <td>0.27760</td>\n",
       "      <td>0.3001</td>\n",
       "      <td>0.14710</td>\n",
       "      <td>...</td>\n",
       "      <td>25.38</td>\n",
       "      <td>17.33</td>\n",
       "      <td>184.60</td>\n",
       "      <td>2019.0</td>\n",
       "      <td>0.1622</td>\n",
       "      <td>0.6656</td>\n",
       "      <td>0.7119</td>\n",
       "      <td>0.2654</td>\n",
       "      <td>0.4601</td>\n",
       "      <td>0.11890</td>\n",
       "    </tr>\n",
       "    <tr>\n",
       "      <th>1</th>\n",
       "      <td>842517</td>\n",
       "      <td>M</td>\n",
       "      <td>20.57</td>\n",
       "      <td>17.77</td>\n",
       "      <td>132.90</td>\n",
       "      <td>1326.0</td>\n",
       "      <td>0.08474</td>\n",
       "      <td>0.07864</td>\n",
       "      <td>0.0869</td>\n",
       "      <td>0.07017</td>\n",
       "      <td>...</td>\n",
       "      <td>24.99</td>\n",
       "      <td>23.41</td>\n",
       "      <td>158.80</td>\n",
       "      <td>1956.0</td>\n",
       "      <td>0.1238</td>\n",
       "      <td>0.1866</td>\n",
       "      <td>0.2416</td>\n",
       "      <td>0.1860</td>\n",
       "      <td>0.2750</td>\n",
       "      <td>0.08902</td>\n",
       "    </tr>\n",
       "    <tr>\n",
       "      <th>2</th>\n",
       "      <td>84300903</td>\n",
       "      <td>M</td>\n",
       "      <td>19.69</td>\n",
       "      <td>21.25</td>\n",
       "      <td>130.00</td>\n",
       "      <td>1203.0</td>\n",
       "      <td>0.10960</td>\n",
       "      <td>0.15990</td>\n",
       "      <td>0.1974</td>\n",
       "      <td>0.12790</td>\n",
       "      <td>...</td>\n",
       "      <td>23.57</td>\n",
       "      <td>25.53</td>\n",
       "      <td>152.50</td>\n",
       "      <td>1709.0</td>\n",
       "      <td>0.1444</td>\n",
       "      <td>0.4245</td>\n",
       "      <td>0.4504</td>\n",
       "      <td>0.2430</td>\n",
       "      <td>0.3613</td>\n",
       "      <td>0.08758</td>\n",
       "    </tr>\n",
       "    <tr>\n",
       "      <th>3</th>\n",
       "      <td>84348301</td>\n",
       "      <td>M</td>\n",
       "      <td>11.42</td>\n",
       "      <td>20.38</td>\n",
       "      <td>77.58</td>\n",
       "      <td>386.1</td>\n",
       "      <td>0.14250</td>\n",
       "      <td>0.28390</td>\n",
       "      <td>0.2414</td>\n",
       "      <td>0.10520</td>\n",
       "      <td>...</td>\n",
       "      <td>14.91</td>\n",
       "      <td>26.50</td>\n",
       "      <td>98.87</td>\n",
       "      <td>567.7</td>\n",
       "      <td>0.2098</td>\n",
       "      <td>0.8663</td>\n",
       "      <td>0.6869</td>\n",
       "      <td>0.2575</td>\n",
       "      <td>0.6638</td>\n",
       "      <td>0.17300</td>\n",
       "    </tr>\n",
       "    <tr>\n",
       "      <th>4</th>\n",
       "      <td>84358402</td>\n",
       "      <td>M</td>\n",
       "      <td>20.29</td>\n",
       "      <td>14.34</td>\n",
       "      <td>135.10</td>\n",
       "      <td>1297.0</td>\n",
       "      <td>0.10030</td>\n",
       "      <td>0.13280</td>\n",
       "      <td>0.1980</td>\n",
       "      <td>0.10430</td>\n",
       "      <td>...</td>\n",
       "      <td>22.54</td>\n",
       "      <td>16.67</td>\n",
       "      <td>152.20</td>\n",
       "      <td>1575.0</td>\n",
       "      <td>0.1374</td>\n",
       "      <td>0.2050</td>\n",
       "      <td>0.4000</td>\n",
       "      <td>0.1625</td>\n",
       "      <td>0.2364</td>\n",
       "      <td>0.07678</td>\n",
       "    </tr>\n",
       "  </tbody>\n",
       "</table>\n",
       "<p>5 rows × 32 columns</p>\n",
       "</div>"
      ],
      "text/plain": [
       "         id diagnosis  radius_mean  texture_mean  perimeter_mean  area_mean  \\\n",
       "0    842302         M        17.99         10.38          122.80     1001.0   \n",
       "1    842517         M        20.57         17.77          132.90     1326.0   \n",
       "2  84300903         M        19.69         21.25          130.00     1203.0   \n",
       "3  84348301         M        11.42         20.38           77.58      386.1   \n",
       "4  84358402         M        20.29         14.34          135.10     1297.0   \n",
       "\n",
       "   smoothness_mean  compactness_mean  concavity_mean  concave points_mean  \\\n",
       "0          0.11840           0.27760          0.3001              0.14710   \n",
       "1          0.08474           0.07864          0.0869              0.07017   \n",
       "2          0.10960           0.15990          0.1974              0.12790   \n",
       "3          0.14250           0.28390          0.2414              0.10520   \n",
       "4          0.10030           0.13280          0.1980              0.10430   \n",
       "\n",
       "   ...  radius_worst  texture_worst  perimeter_worst  area_worst  \\\n",
       "0  ...         25.38          17.33           184.60      2019.0   \n",
       "1  ...         24.99          23.41           158.80      1956.0   \n",
       "2  ...         23.57          25.53           152.50      1709.0   \n",
       "3  ...         14.91          26.50            98.87       567.7   \n",
       "4  ...         22.54          16.67           152.20      1575.0   \n",
       "\n",
       "   smoothness_worst  compactness_worst  concavity_worst  concave points_worst  \\\n",
       "0            0.1622             0.6656           0.7119                0.2654   \n",
       "1            0.1238             0.1866           0.2416                0.1860   \n",
       "2            0.1444             0.4245           0.4504                0.2430   \n",
       "3            0.2098             0.8663           0.6869                0.2575   \n",
       "4            0.1374             0.2050           0.4000                0.1625   \n",
       "\n",
       "   symmetry_worst  fractal_dimension_worst  \n",
       "0          0.4601                  0.11890  \n",
       "1          0.2750                  0.08902  \n",
       "2          0.3613                  0.08758  \n",
       "3          0.6638                  0.17300  \n",
       "4          0.2364                  0.07678  \n",
       "\n",
       "[5 rows x 32 columns]"
      ]
     },
     "execution_count": 2,
     "metadata": {},
     "output_type": "execute_result"
    }
   ],
   "source": [
    "# Load data set:\n",
    "df = pd.read_csv('uci breast cancer datatset.csv')\n",
    "df.head()"
   ]
  },
  {
   "cell_type": "code",
   "execution_count": 3,
   "id": "6b93a7b1",
   "metadata": {},
   "outputs": [
    {
     "name": "stdout",
     "output_type": "stream",
     "text": [
      "<class 'pandas.core.frame.DataFrame'>\n",
      "RangeIndex: 569 entries, 0 to 568\n",
      "Data columns (total 32 columns):\n",
      " #   Column                   Non-Null Count  Dtype  \n",
      "---  ------                   --------------  -----  \n",
      " 0   id                       569 non-null    int64  \n",
      " 1   diagnosis                569 non-null    object \n",
      " 2   radius_mean              569 non-null    float64\n",
      " 3   texture_mean             569 non-null    float64\n",
      " 4   perimeter_mean           569 non-null    float64\n",
      " 5   area_mean                569 non-null    float64\n",
      " 6   smoothness_mean          569 non-null    float64\n",
      " 7   compactness_mean         569 non-null    float64\n",
      " 8   concavity_mean           569 non-null    float64\n",
      " 9   concave points_mean      569 non-null    float64\n",
      " 10  symmetry_mean            569 non-null    float64\n",
      " 11  fractal_dimension_mean   569 non-null    float64\n",
      " 12  radius_se                569 non-null    float64\n",
      " 13  texture_se               569 non-null    float64\n",
      " 14  perimeter_se             569 non-null    float64\n",
      " 15  area_se                  569 non-null    float64\n",
      " 16  smoothness_se            569 non-null    float64\n",
      " 17  compactness_se           569 non-null    float64\n",
      " 18  concavity_se             569 non-null    float64\n",
      " 19  concave points_se        569 non-null    float64\n",
      " 20  symmetry_se              569 non-null    float64\n",
      " 21  fractal_dimension_se     569 non-null    float64\n",
      " 22  radius_worst             569 non-null    float64\n",
      " 23  texture_worst            569 non-null    float64\n",
      " 24  perimeter_worst          569 non-null    float64\n",
      " 25  area_worst               569 non-null    float64\n",
      " 26  smoothness_worst         569 non-null    float64\n",
      " 27  compactness_worst        569 non-null    float64\n",
      " 28  concavity_worst          569 non-null    float64\n",
      " 29  concave points_worst     569 non-null    float64\n",
      " 30  symmetry_worst           569 non-null    float64\n",
      " 31  fractal_dimension_worst  569 non-null    float64\n",
      "dtypes: float64(30), int64(1), object(1)\n",
      "memory usage: 142.4+ KB\n"
     ]
    }
   ],
   "source": [
    "df.info()"
   ]
  },
  {
   "cell_type": "code",
   "execution_count": 4,
   "id": "fb09ba04",
   "metadata": {},
   "outputs": [
    {
     "name": "stdout",
     "output_type": "stream",
     "text": [
      "     radius_mean  texture_mean  perimeter_mean  area_mean  smoothness_mean  \\\n",
      "0       1.097064     -2.073335        1.269934   0.984375         1.568466   \n",
      "1       1.829821     -0.353632        1.685955   1.908708        -0.826962   \n",
      "2       1.579888      0.456187        1.566503   1.558884         0.942210   \n",
      "3      -0.768909      0.253732       -0.592687  -0.764464         3.283553   \n",
      "4       1.750297     -1.151816        1.776573   1.826229         0.280372   \n",
      "..           ...           ...             ...        ...              ...   \n",
      "564     2.110995      0.721473        2.060786   2.343856         1.041842   \n",
      "565     1.704854      2.085134        1.615931   1.723842         0.102458   \n",
      "566     0.702284      2.045574        0.672676   0.577953        -0.840484   \n",
      "567     1.838341      2.336457        1.982524   1.735218         1.525767   \n",
      "568    -1.808401      1.221792       -1.814389  -1.347789        -3.112085   \n",
      "\n",
      "     compactness_mean  concavity_mean  concave points_mean  symmetry_mean  \\\n",
      "0            3.283515        2.652874             2.532475       2.217515   \n",
      "1           -0.487072       -0.023846             0.548144       0.001392   \n",
      "2            1.052926        1.363478             2.037231       0.939685   \n",
      "3            3.402909        1.915897             1.451707       2.867383   \n",
      "4            0.539340        1.371011             1.428493      -0.009560   \n",
      "..                ...             ...                  ...            ...   \n",
      "564          0.219060        1.947285             2.320965      -0.312589   \n",
      "565         -0.017833        0.693043             1.263669      -0.217664   \n",
      "566         -0.038680        0.046588             0.105777      -0.809117   \n",
      "567          3.272144        3.296944             2.658866       2.137194   \n",
      "568         -1.150752       -1.114873            -1.261820      -0.820070   \n",
      "\n",
      "     fractal_dimension_mean  ...  radius_worst  texture_worst  \\\n",
      "0                  2.255747  ...      1.886690      -1.359293   \n",
      "1                 -0.868652  ...      1.805927      -0.369203   \n",
      "2                 -0.398008  ...      1.511870      -0.023974   \n",
      "3                  4.910919  ...     -0.281464       0.133984   \n",
      "4                 -0.562450  ...      1.298575      -1.466770   \n",
      "..                      ...  ...           ...            ...   \n",
      "564               -0.931027  ...      1.901185       0.117700   \n",
      "565               -1.058611  ...      1.536720       2.047399   \n",
      "566               -0.895587  ...      0.561361       1.374854   \n",
      "567                1.043695  ...      1.961239       2.237926   \n",
      "568               -0.561032  ...     -1.410893       0.764190   \n",
      "\n",
      "     perimeter_worst  area_worst  smoothness_worst  compactness_worst  \\\n",
      "0           2.303601    2.001237          1.307686           2.616665   \n",
      "1           1.535126    1.890489         -0.375612          -0.430444   \n",
      "2           1.347475    1.456285          0.527407           1.082932   \n",
      "3          -0.249939   -0.550021          3.394275           3.893397   \n",
      "4           1.338539    1.220724          0.220556          -0.313395   \n",
      "..               ...         ...               ...                ...   \n",
      "564         1.752563    2.015301          0.378365          -0.273318   \n",
      "565         1.421940    1.494959         -0.691230          -0.394820   \n",
      "566         0.579001    0.427906         -0.809587           0.350735   \n",
      "567         2.303601    1.653171          1.430427           3.904848   \n",
      "568        -1.432735   -1.075813         -1.859019          -1.207552   \n",
      "\n",
      "     concavity_worst  concave points_worst  symmetry_worst  \\\n",
      "0           2.109526              2.296076        2.750622   \n",
      "1          -0.146749              1.087084       -0.243890   \n",
      "2           0.854974              1.955000        1.152255   \n",
      "3           1.989588              2.175786        6.046041   \n",
      "4           0.613179              0.729259       -0.868353   \n",
      "..               ...                   ...             ...   \n",
      "564         0.664512              1.629151       -1.360158   \n",
      "565         0.236573              0.733827       -0.531855   \n",
      "566         0.326767              0.414069       -1.104549   \n",
      "567         3.197605              2.289985        1.919083   \n",
      "568        -1.305831             -1.745063       -0.048138   \n",
      "\n",
      "     fractal_dimension_worst  \n",
      "0                   1.937015  \n",
      "1                   0.281190  \n",
      "2                   0.201391  \n",
      "3                   4.935010  \n",
      "4                  -0.397100  \n",
      "..                       ...  \n",
      "564                -0.709091  \n",
      "565                -0.973978  \n",
      "566                -0.318409  \n",
      "567                 2.219635  \n",
      "568                -0.751207  \n",
      "\n",
      "[569 rows x 30 columns]\n"
     ]
    }
   ],
   "source": [
    "# Feture transformation to standardised scale\n",
    "from sklearn.preprocessing import StandardScaler \n",
    "standardized = StandardScaler() \n",
    "standardized_X = standardized.fit_transform(df.drop(['id', 'diagnosis'], axis=1))\n",
    "X = pd.DataFrame(standardized_X, columns=df.columns[2:32])\n",
    "print(X)"
   ]
  },
  {
   "cell_type": "code",
   "execution_count": 5,
   "id": "ed2dca49",
   "metadata": {},
   "outputs": [
    {
     "name": "stdout",
     "output_type": "stream",
     "text": [
      "[1 1 1 1 1 1 1 1 1 1 1 1 1 1 1 1 1 1 1 0 0 0 1 1 1 1 1 1 1 1 1 1 1 1 1 1 1\n",
      " 0 1 1 1 1 1 1 1 1 0 1 0 0 0 0 0 1 1 0 1 1 0 0 0 0 1 0 1 1 0 0 0 0 1 0 1 1\n",
      " 0 1 0 1 1 0 0 0 1 1 0 1 1 1 0 0 0 1 0 0 1 1 0 0 0 1 1 0 0 0 0 1 0 0 1 0 0\n",
      " 0 0 0 0 0 0 1 1 1 0 1 1 0 0 0 1 1 0 1 0 1 1 0 1 1 0 0 1 0 0 1 0 0 0 0 1 0\n",
      " 0 0 0 0 0 0 0 0 1 0 0 0 0 1 1 0 1 0 0 1 1 0 0 1 1 0 0 0 0 1 0 0 1 1 1 0 1\n",
      " 0 1 0 0 0 1 0 0 1 1 0 1 1 1 1 0 1 1 1 0 1 0 1 0 0 1 0 1 1 1 1 0 0 1 1 0 0\n",
      " 0 1 0 0 0 0 0 1 1 0 0 1 0 0 1 1 0 1 0 0 0 0 1 0 0 0 0 0 1 0 1 1 1 1 1 1 1\n",
      " 1 1 1 1 1 1 1 0 0 0 0 0 0 1 0 1 0 0 1 0 0 1 0 1 1 0 0 0 0 0 0 0 0 0 0 0 0\n",
      " 0 1 0 0 1 0 1 0 0 0 0 0 0 0 0 0 0 0 0 0 0 1 0 0 0 1 0 1 0 0 0 0 1 1 1 0 0\n",
      " 0 0 1 0 1 0 1 0 0 0 1 0 0 0 0 0 0 0 1 1 1 0 0 0 0 0 0 0 0 0 0 0 1 1 0 1 1\n",
      " 1 0 1 1 0 0 0 0 0 1 0 0 0 0 0 1 0 0 0 1 0 0 1 1 0 0 0 0 0 0 1 0 0 0 0 0 0\n",
      " 0 1 0 0 0 0 0 1 0 0 1 0 0 0 0 0 0 0 0 0 0 0 0 1 0 1 1 0 1 0 0 0 0 0 1 0 0\n",
      " 1 0 1 0 0 1 0 1 0 0 0 0 0 0 0 0 1 1 0 0 0 0 0 0 1 0 0 0 0 0 0 0 0 0 0 1 0\n",
      " 0 0 0 0 0 0 1 0 1 0 0 1 0 0 0 0 0 1 1 0 1 0 1 0 0 0 0 0 1 0 0 1 0 1 0 1 1\n",
      " 0 0 0 1 0 0 0 0 0 0 0 0 0 0 0 1 0 1 1 0 0 0 0 0 0 0 0 0 0 0 0 0 0 0 0 0 0\n",
      " 0 0 0 0 0 0 0 1 1 1 1 1 1 0]\n"
     ]
    }
   ],
   "source": [
    "# Encoding label feature:\n",
    "from sklearn.preprocessing import LabelEncoder # importing Label Encoder modules\n",
    "lben = LabelEncoder() # create object for Label Encoder \n",
    "y = lben.fit_transform(df['diagnosis'])\n",
    "print(y)"
   ]
  },
  {
   "cell_type": "code",
   "execution_count": 6,
   "id": "fc0ab14c",
   "metadata": {},
   "outputs": [],
   "source": [
    "# Split data for train and test set\n",
    "from sklearn.model_selection import train_test_split\n",
    "X_train, X_test, y_train, y_test = train_test_split(X, y, test_size=0.3, random_state=1)"
   ]
  },
  {
   "cell_type": "code",
   "execution_count": 7,
   "id": "894b3bb1",
   "metadata": {},
   "outputs": [],
   "source": [
    "# Apply decision tree classification\n",
    "from sklearn.tree import DecisionTreeClassifier\n",
    "dtc = DecisionTreeClassifier()\n",
    "dtc.fit(X_train, y_train)\n",
    "y_pred_dtc = dtc.predict(X_test)"
   ]
  },
  {
   "cell_type": "code",
   "execution_count": 8,
   "id": "e8956e4c",
   "metadata": {},
   "outputs": [
    {
     "name": "stdout",
     "output_type": "stream",
     "text": [
      "              precision    recall  f1-score   support\n",
      "\n",
      "           0       0.95      0.99      0.97       108\n",
      "           1       0.98      0.90      0.94        63\n",
      "\n",
      "    accuracy                           0.96       171\n",
      "   macro avg       0.96      0.95      0.96       171\n",
      "weighted avg       0.96      0.96      0.96       171\n",
      "\n",
      "MSE for Decision Tree:  0.04093567251461988\n",
      "Traning Accuracy for Decision Tree:  1.0\n",
      "Testing Accuracy Decision Tree:  0.9590643274853801\n"
     ]
    },
    {
     "data": {
      "image/png": "[encoded data removed]",
      "text/plain": [
       "<Figure size 432x288 with 2 Axes>"
      ]
     },
     "metadata": {
      "needs_background": "light"
     },
     "output_type": "display_data"
    }
   ],
   "source": [
    "# Evaluate the performance of decision tree classification\n",
    "from sklearn.metrics import classification_report, f1_score, confusion_matrix, mean_squared_error\n",
    "class_name = ['M', 'B']\n",
    "cm_dtc = pd.DataFrame(confusion_matrix(y_test, y_pred_dtc), columns=class_name, index=class_name)\n",
    "sbn.heatmap(cm_dtc, annot=True, fmt='d')\n",
    "print(classification_report(y_test, y_pred_dtc))\n",
    "\n",
    "print(\"MSE for Decision Tree: \", mean_squared_error(y_test, y_pred_dtc)) # The mean squared error\n",
    "print (\"Traning Accuracy for Decision Tree: \", dtc.score(X_train, y_train)) # Check training accuracy\n",
    "print (\"Testing Accuracy Decision Tree: \", dtc.score(X_test, y_test)) # Check testing accuracy\n"
   ]
  },
  {
   "cell_type": "code",
   "execution_count": 9,
   "id": "e2e4ad50",
   "metadata": {},
   "outputs": [
    {
     "data": {
      "image/png": "[encoded data removed]",
      "text/plain": [
       "<Figure size 720x432 with 1 Axes>"
      ]
     },
     "metadata": {
      "needs_background": "light"
     },
     "output_type": "display_data"
    }
   ],
   "source": [
    "# Finding an appropiate n_neighbors value for kNN classifier by uniform and distance weight function:\n",
    "from sklearn.neighbors import KNeighborsClassifier\n",
    "from sklearn.metrics import f1_score\n",
    "f1s = []\n",
    "f2s = []\n",
    "for i in range(1, 20):\n",
    "    knct = KNeighborsClassifier(n_neighbors=i, weights='uniform')\n",
    "    knct.fit(X_train, y_train)\n",
    "    pred_i = knct.predict(X_test)\n",
    "    f1s.append(f1_score(y_test, pred_i, average='weighted'))\n",
    "    \n",
    "    knct2 = KNeighborsClassifier(n_neighbors=i, weights='distance')\n",
    "    knct2.fit(X_train, y_train)\n",
    "    pred_i2 = knct2.predict(X_test)\n",
    "    f2s.append(f1_score(y_test, pred_i2, average='weighted'))\n",
    "           \n",
    "plt.figure(figsize=(10, 6))\n",
    "plt.plot(range(1, 20), f1s, color='red', linestyle='dashed', marker='o',\n",
    "         markerfacecolor='blue', markersize=12)\n",
    "plt.plot(range(1, 20), f2s, color='black', linestyle='dashed', marker='X',\n",
    "         markerfacecolor='green', markersize=10)\n",
    "plt.title('F1 Score vs K Value')\n",
    "plt.xlabel('K Value')\n",
    "plt.ylabel('F1 Score')\n",
    "plt.xticks(range(0, 20, 2))\n",
    "plt.tick_params(labeltop=True, labelright=True, top=True, right=True)"
   ]
  },
  {
   "cell_type": "code",
   "execution_count": 10,
   "id": "c03f4b33",
   "metadata": {},
   "outputs": [
    {
     "name": "stdout",
     "output_type": "stream",
     "text": [
      "              precision    recall  f1-score   support\n",
      "\n",
      "           0       0.95      1.00      0.97       108\n",
      "           1       1.00      0.90      0.95        63\n",
      "\n",
      "    accuracy                           0.96       171\n",
      "   macro avg       0.97      0.95      0.96       171\n",
      "weighted avg       0.97      0.96      0.96       171\n",
      "\n",
      "MSE for kNN uniform:  0.03508771929824561\n",
      "Traning Accuracy for kNN uniform:  0.9824120603015075\n",
      "Testing Accuracy kNN uniform:  0.9649122807017544\n"
     ]
    },
    {
     "data": {
      "image/png": "[encoded data removed]",
      "text/plain": [
       "<Figure size 432x288 with 2 Axes>"
      ]
     },
     "metadata": {
      "needs_background": "light"
     },
     "output_type": "display_data"
    }
   ],
   "source": [
    "# Apply optimised n_neighbors value for kNN classification with default weight function:\n",
    "knc3 = KNeighborsClassifier(n_neighbors=3)\n",
    "knc3.fit(X_train, y_train)\n",
    "y_pred_knc3 = knc3.predict(X_test)\n",
    "\n",
    "# Evaluate the performance of kNN classification:\n",
    "cm3 = pd.DataFrame(confusion_matrix(y_test, y_pred_knc3), columns=class_name, index=class_name)\n",
    "sbn.heatmap(cm3, annot=True, fmt='d')\n",
    "print(classification_report(y_test, y_pred_knc3))\n",
    "\n",
    "print(\"MSE for kNN uniform: \", mean_squared_error(y_test, y_pred_knc3)) # The mean squared error\n",
    "print (\"Traning Accuracy for kNN uniform: \", knc3.score(X_train, y_train)) # Check training accuracy\n",
    "print (\"Testing Accuracy kNN uniform: \", knc3.score(X_test, y_test)) # Check testing accuracy"
   ]
  },
  {
   "cell_type": "code",
   "execution_count": 11,
   "id": "1f689f10",
   "metadata": {},
   "outputs": [
    {
     "name": "stdout",
     "output_type": "stream",
     "text": [
      "              precision    recall  f1-score   support\n",
      "\n",
      "           0       0.98      0.97      0.98       108\n",
      "           1       0.95      0.97      0.96        63\n",
      "\n",
      "    accuracy                           0.97       171\n",
      "   macro avg       0.97      0.97      0.97       171\n",
      "weighted avg       0.97      0.97      0.97       171\n",
      "\n",
      "MSE for Logistic Regression:  0.029239766081871343\n",
      "Traning Accuracy for Logistic Regression:  0.9899497487437185\n",
      "Testing Accuracy Logistic Regression:  0.9707602339181286\n"
     ]
    },
    {
     "data": {
      "image/png": "[encoded data removed]",
      "text/plain": [
       "<Figure size 432x288 with 2 Axes>"
      ]
     },
     "metadata": {
      "needs_background": "light"
     },
     "output_type": "display_data"
    }
   ],
   "source": [
    "# Apply Logistic Regression \n",
    "from sklearn.linear_model import LogisticRegression\n",
    "logit = LogisticRegression()\n",
    "logit.fit(X_train, y_train)\n",
    "y_pred_lgt = logit.predict(X_test)\n",
    "\n",
    "# Evaluate the performance of Logistic Regression:\n",
    "lgt = pd.DataFrame(confusion_matrix(y_test, y_pred_lgt), columns=class_name, index=class_name)\n",
    "sbn.heatmap(lgt, annot=True, fmt='d')\n",
    "print(classification_report(y_test, y_pred_lgt))\n",
    "\n",
    "print(\"MSE for Logistic Regression: \", mean_squared_error(y_test, y_pred_lgt)) # The mean squared error\n",
    "print (\"Traning Accuracy for Logistic Regression: \", logit.score(X_train, y_train)) # Check training accuracy\n",
    "print (\"Testing Accuracy Logistic Regression: \", logit.score(X_test, y_test)) # Check testing accuracy"
   ]
  },
  {
   "cell_type": "code",
   "execution_count": 12,
   "id": "a0c324d7",
   "metadata": {},
   "outputs": [
    {
     "name": "stdout",
     "output_type": "stream",
     "text": [
      "0.9477513227513227 0.9523809523809523 0.9702380952380952\n"
     ]
    },
    {
     "data": {
      "image/png": "[encoded data removed]",
      "text/plain": [
       "<Figure size 432x288 with 1 Axes>"
      ]
     },
     "metadata": {
      "needs_background": "light"
     },
     "output_type": "display_data"
    }
   ],
   "source": [
    "# ROC and AUC evaluation\n",
    "from sklearn.metrics import plot_roc_curve, roc_auc_score, roc_curve\n",
    "fpr1, tpr1, thresh1 = roc_curve(y_test, y_pred_dtc, pos_label=1)\n",
    "fpr2, tpr2, thresh2 = roc_curve(y_test, y_pred_knc3, pos_label=1)\n",
    "fpr3, tpr3, thresh3 = roc_curve(y_test, y_pred_lgt, pos_label=1)\n",
    "\n",
    "# roc curve for tpr = fpr \n",
    "random_probs = [0 for i in range(len(y_test))]\n",
    "p_fpr, p_tpr, _ = roc_curve(y_test, random_probs, pos_label=1)\n",
    "\n",
    "auc_score1 = roc_auc_score(y_test, y_pred_dtc)\n",
    "auc_score2 = roc_auc_score(y_test, y_pred_knc3)\n",
    "auc_score3 = roc_auc_score(y_test, y_pred_lgt)\n",
    "\n",
    "print(auc_score1, auc_score2, auc_score3)\n",
    "\n",
    "plt.plot(fpr1, tpr1, linestyle='dashdot',color='black', label='Decision Tree')\n",
    "plt.plot(fpr2, tpr2, linestyle='--',color='green', label='kNN Classification')\n",
    "plt.plot(fpr3, tpr3, linestyle='--',color='red', label='Logistic Regression')\n",
    "plt.plot(p_fpr, p_tpr, linestyle='--', color='blue')\n",
    "# title\n",
    "plt.title('ROC curve')\n",
    "# x label\n",
    "plt.xlabel('False Positive Rate')\n",
    "# y label\n",
    "plt.ylabel('True Positive rate')\n",
    "\n",
    "plt.legend(loc='best')\n",
    "plt.savefig('ROC',dpi=300)\n",
    "plt.show();"
   ]
  }
 ],
 "metadata": {
  "kernelspec": {
   "display_name": "Python 3",
   "language": "python",
   "name": "python3"
  },
  "language_info": {
   "codemirror_mode": {
    "name": "ipython",
    "version": 3
   },
   "file_extension": ".py",
   "mimetype": "text/x-python",
   "name": "python",
   "nbconvert_exporter": "python",
   "pygments_lexer": "ipython3",
   "version": "3.8.8"
  }
 },
 "nbformat": 4,
 "nbformat_minor": 5
}
